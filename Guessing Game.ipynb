{
 "cells": [
  {
   "cell_type": "code",
   "execution_count": null,
   "id": "2d4744ee-7bf8-4f43-b6da-a2b3d601f9f5",
   "metadata": {},
   "outputs": [],
   "source": [
    "import random\n",
    "\n",
    "\n",
    "#step_1: firstly generate a random number\n",
    "secret_num = random.randint(1,100)\n",
    "\n",
    "#create a variable to count attempts\n",
    "attempts = 0\n",
    "\n",
    "#loop until the user guesses correctly\n",
    "while True: \n",
    "    guess = int(input('Guess a number between 1 to 100 :  '))\n",
    "    attempts += 1\n",
    "    #check if the guess is correct or wrong\n",
    "    if guess == secret_num:\n",
    "        print(f\"Congratulations!! you guessed it right in {attempts} tries\")\n",
    "        break\n",
    "    elif guess < secret_num:\n",
    "        print('Too low! Try Again')\n",
    "    else:\n",
    "        print('Too high! Try Again')\n",
    "    \n",
    "    \n",
    "    \n",
    "    \n"
   ]
  },
  {
   "cell_type": "code",
   "execution_count": null,
   "id": "5146a27e-c29c-4784-ace6-c9b0a299931d",
   "metadata": {},
   "outputs": [],
   "source": [
    "# Two player Number guessing game\n",
    "print('Welcome to the Multiplayer number guessing game! ')\n",
    "print(\"Player one, please choose a number between 1 to 100.\")\n",
    "\n",
    "#player_one inputs the secret number\n",
    "sec_num = int(input(\"Enter your guessed number : \"))\n",
    "\n",
    "#clear the screen to hide the number(for console simulation)\n",
    "print(\"\\n\" * 50)\n",
    "\n",
    "#initialize attempts\n",
    "attempts = 0\n",
    "\n",
    "#start the guessing loop\n",
    "while True:\n",
    "    guess = int(input('Player two, Guess a number between 1 to 100 :  '))\n",
    "    attempts += 1\n",
    "\n",
    "    #check if the guess is correct or wrong\n",
    "    if guess == sec_num:\n",
    "        print(f\"Congratulations!! you guessed it right in {attempts} tries\")\n",
    "        break\n",
    "    elif guess < sec_num:\n",
    "        print('Too low! Try Again')\n",
    "    else:\n",
    "        print('Too high! Try Again')\n",
    "    "
   ]
  },
  {
   "cell_type": "code",
   "execution_count": null,
   "id": "df09b369-cec6-4e08-aaab-4885374d4ae9",
   "metadata": {},
   "outputs": [],
   "source": []
  }
 ],
 "metadata": {
  "kernelspec": {
   "display_name": "Python 3 (ipykernel)",
   "language": "python",
   "name": "python3"
  },
  "language_info": {
   "codemirror_mode": {
    "name": "ipython",
    "version": 3
   },
   "file_extension": ".py",
   "mimetype": "text/x-python",
   "name": "python",
   "nbconvert_exporter": "python",
   "pygments_lexer": "ipython3",
   "version": "3.12.7"
  }
 },
 "nbformat": 4,
 "nbformat_minor": 5
}
