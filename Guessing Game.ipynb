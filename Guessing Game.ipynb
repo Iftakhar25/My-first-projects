{
 "cells": [
  {
   "cell_type": "code",
   "execution_count": null,
   "id": "2d4744ee-7bf8-4f43-b6da-a2b3d601f9f5",
   "metadata": {},
   "outputs": [],
   "source": [
    "import random\n",
    "\n",
    "\n",
    "#step_1: firstly generate a random number\n",
    "secret_num = random.randint(1,100)\n",
    "\n",
    "#create a variable to count attempts\n",
    "attempts = 0\n",
    "\n",
    "#loop until the user guesses correctly\n",
    "while True: \n",
    "    guess = int(input('Guess a number between 1 to 100 :  '))\n",
    "    attempts += 1\n",
    "    #check if the guess is correct or wrong\n",
    "    if guess == secret_num:\n",
    "        print(f\"Congratulations!! you guessed it right in {attempts} tries\")\n",
    "        break\n",
    "    elif guess < secret_num:\n",
    "        print('Too low! Try Again')\n",
    "    else:\n",
    "        print('Too high! Try Again')\n",
    "    \n",
    "    \n",
    "    \n"
   ]
  }
 ],
 "metadata": {
  "kernelspec": {
   "display_name": "Python 3 (ipykernel)",
   "language": "python",
   "name": "python3"
  },
  "language_info": {
   "codemirror_mode": {
    "name": "ipython",
    "version": 3
   },
   "file_extension": ".py",
   "mimetype": "text/x-python",
   "name": "python",
   "nbconvert_exporter": "python",
   "pygments_lexer": "ipython3",
   "version": "3.12.7"
  }
 },
 "nbformat": 4,
 "nbformat_minor": 5
}
