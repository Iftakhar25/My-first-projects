{
 "cells": [
  {
   "cell_type": "code",
   "execution_count": 1,
   "id": "ff4374e5-e410-4df8-b60c-18cafe149a52",
   "metadata": {},
   "outputs": [],
   "source": [
    "quiz = {\n",
    "    \" 1.Which one is a Noun? \": {\n",
    "        \"options\": [\"(a) quickly\",\"(b) write\",\"(c) beautiful\",\"(d) student\"],\n",
    "        \"answer\": \"d\"\n",
    "    },\n",
    "    \" 2.What is the past form of the verb 'go'? \": {\n",
    "        \"options\": [\"(a)going\",\"(b)gone \",\"(c)went \",\"(d)goes \"],\n",
    "        \"answer\": \"c\"\n",
    "    },\n",
    "    \" 3. What is the opposite of 'brave'? \": {\n",
    "        \"options\": [\"(a) courageous\",\"(b)timid \",\"(c)strong \",\"(d)bold \"],\n",
    "        \"answer\": \"b\"\n",
    "    },\n",
    "    \" 4.কোনটি মৌলিক সংখ্যা? \": {\n",
    "        \"options\": [\"(a) 9\",\"(b)15 \",\"(c)23 \",\"(d)25 \"],\n",
    "        \"answer\": \"c\"        \n",
    "    },\n",
    "    \" 5.৮ এবং ১২ এর গ.সা.গু. (GCD) কত? \": {\n",
    "        \"options\": [\"(a)2 \",\"(b)4 \",\"(c)8 \",\"(d)24 \"],\n",
    "        \"answer\": \"b\"         \n",
    "    },\n",
    "    \" 6.সালোকসংশ্লেষণ প্রক্রিয়ায় উদ্ভিদ কিসের সাহায্যে খাদ্য তৈরি করে? \": {\n",
    "        \"options\": [\"(a)অক্সিজেন \",\"(b)কার্বন ডাইঅক্সাইড \",\"(c)নাইট্রোজেন \",\"(d)হাইড্রোজেন \"],\n",
    "        \"answer\": \"b\"  \n",
    "    },\n",
    "    \" 7.কোনটি নবায়নযোগ্য শক্তির উৎস? \": {\n",
    "        \"options\": [\"(a)কয়লা \",\"(b)প্রাকৃতিক গ্যাস \",\"(c)সূর্যরশ্মি \",\"(d)পেট্রোলিয়াম \"],\n",
    "        \"answer\": \"c\"         \n",
    "    },\n",
    "    \" 8.মানবদেহের কোন অঙ্গটি রক্ত পাম্প করে সারা শরীরে পাঠায়? \": {\n",
    "        \"options\": [\"(a)ফুসফুস \",\"(b)যকৃত (লিভার) \",\"(c)হৃৎপিণ্ড (হার্ট) \",\"(d)বৃক্ক (কিডনি) \"],\n",
    "        \"answer\": \"c\"           \n",
    "    },\n",
    "    \"  9.বাংলাদেশের জাতীয় ফুলের নাম কী? \": {\n",
    "        \"options\": [\"(a)গোলাপ \",\"(b)শাপলা \",\"(c)জবা \",\"(d)সূর্যমুখী \"],\n",
    "        \"answer\": \"b\"         \n",
    "    },\n",
    "    \" 10.বাংলাদেশের রাজধানীর নাম কী? \": {\n",
    "        \"options\": [\"(a)চট্টগ্রাম \",\"(b)খুলনা \",\"(c)ঢাকা \",\"(d)সিলেট \"],\n",
    "        \"answer\": \"c\"          \n",
    "    }\n",
    "}"
   ]
  },
  {
   "cell_type": "code",
   "execution_count": 2,
   "id": "187a6cf4-acc6-42a3-ac2b-8a4064fd7dda",
   "metadata": {},
   "outputs": [
    {
     "name": "stdout",
     "output_type": "stream",
     "text": [
      "\n",
      " 1.Which one is a Noun? \n",
      "(a) quickly\n",
      "(b) write\n",
      "(c) beautiful\n",
      "(d) student\n"
     ]
    },
    {
     "name": "stdin",
     "output_type": "stream",
     "text": [
      "Your answer (a/b/c/d):  d\n"
     ]
    },
    {
     "name": "stdout",
     "output_type": "stream",
     "text": [
      "correct! \n",
      "\n",
      " 2.What is the past form of the verb 'go'? \n",
      "(a)going\n",
      "(b)gone \n",
      "(c)went \n",
      "(d)goes \n"
     ]
    },
    {
     "name": "stdin",
     "output_type": "stream",
     "text": [
      "Your answer (a/b/c/d):  c\n"
     ]
    },
    {
     "name": "stdout",
     "output_type": "stream",
     "text": [
      "correct! \n",
      "\n",
      " 3. What is the opposite of 'brave'? \n",
      "(a) courageous\n",
      "(b)timid \n",
      "(c)strong \n",
      "(d)bold \n"
     ]
    },
    {
     "name": "stdin",
     "output_type": "stream",
     "text": [
      "Your answer (a/b/c/d):  a\n"
     ]
    },
    {
     "name": "stdout",
     "output_type": "stream",
     "text": [
      "Wrong!! the Correct answer was b \n",
      "\n",
      " 4.কোনটি মৌলিক সংখ্যা? \n",
      "(a) 9\n",
      "(b)15 \n",
      "(c)23 \n",
      "(d)25 \n"
     ]
    },
    {
     "name": "stdin",
     "output_type": "stream",
     "text": [
      "Your answer (a/b/c/d):  b\n"
     ]
    },
    {
     "name": "stdout",
     "output_type": "stream",
     "text": [
      "Wrong!! the Correct answer was c \n",
      "\n",
      " 5.৮ এবং ১২ এর গ.সা.গু. (GCD) কত? \n",
      "(a)2 \n",
      "(b)4 \n",
      "(c)8 \n",
      "(d)24 \n"
     ]
    },
    {
     "name": "stdin",
     "output_type": "stream",
     "text": [
      "Your answer (a/b/c/d):  d\n"
     ]
    },
    {
     "name": "stdout",
     "output_type": "stream",
     "text": [
      "Wrong!! the Correct answer was b \n",
      "\n",
      " 6.সালোকসংশ্লেষণ প্রক্রিয়ায় উদ্ভিদ কিসের সাহায্যে খাদ্য তৈরি করে? \n",
      "(a)অক্সিজেন \n",
      "(b)কার্বন ডাইঅক্সাইড \n",
      "(c)নাইট্রোজেন \n",
      "(d)হাইড্রোজেন \n"
     ]
    },
    {
     "name": "stdin",
     "output_type": "stream",
     "text": [
      "Your answer (a/b/c/d):  b\n"
     ]
    },
    {
     "name": "stdout",
     "output_type": "stream",
     "text": [
      "correct! \n",
      "\n",
      " 7.কোনটি নবায়নযোগ্য শক্তির উৎস? \n",
      "(a)কয়লা \n",
      "(b)প্রাকৃতিক গ্যাস \n",
      "(c)সূর্যরশ্মি \n",
      "(d)পেট্রোলিয়াম \n"
     ]
    },
    {
     "name": "stdin",
     "output_type": "stream",
     "text": [
      "Your answer (a/b/c/d):  a\n"
     ]
    },
    {
     "name": "stdout",
     "output_type": "stream",
     "text": [
      "Wrong!! the Correct answer was c \n",
      "\n",
      " 8.মানবদেহের কোন অঙ্গটি রক্ত পাম্প করে সারা শরীরে পাঠায়? \n",
      "(a)ফুসফুস \n",
      "(b)যকৃত (লিভার) \n",
      "(c)হৃৎপিণ্ড (হার্ট) \n",
      "(d)বৃক্ক (কিডনি) \n"
     ]
    },
    {
     "name": "stdin",
     "output_type": "stream",
     "text": [
      "Your answer (a/b/c/d):  c\n"
     ]
    },
    {
     "name": "stdout",
     "output_type": "stream",
     "text": [
      "correct! \n",
      "\n",
      "  9.বাংলাদেশের জাতীয় ফুলের নাম কী? \n",
      "(a)গোলাপ \n",
      "(b)শাপলা \n",
      "(c)জবা \n",
      "(d)সূর্যমুখী \n"
     ]
    },
    {
     "name": "stdin",
     "output_type": "stream",
     "text": [
      "Your answer (a/b/c/d):  d\n"
     ]
    },
    {
     "name": "stdout",
     "output_type": "stream",
     "text": [
      "Wrong!! the Correct answer was b \n",
      "\n",
      " 10.বাংলাদেশের রাজধানীর নাম কী? \n",
      "(a)চট্টগ্রাম \n",
      "(b)খুলনা \n",
      "(c)ঢাকা \n",
      "(d)সিলেট \n"
     ]
    },
    {
     "name": "stdin",
     "output_type": "stream",
     "text": [
      "Your answer (a/b/c/d):  c\n"
     ]
    },
    {
     "name": "stdout",
     "output_type": "stream",
     "text": [
      "correct! \n",
      "\n",
      " your final score : 5/10\n",
      "good job, better luck next time,keep practicing\n"
     ]
    }
   ],
   "source": [
    "#initiating score\n",
    "score = 0\n",
    "for question, data in quiz.items():\n",
    "    print(\"\\n\" + question)\n",
    "    for option in data[\"options\"]:\n",
    "        print(option)\n",
    "    user_answer = input(\"Your answer (a/b/c/d): \").lower()\n",
    "\n",
    "\n",
    "    if user_answer ==  data[\"answer\"]:\n",
    "        print(\"correct! \")\n",
    "        score += 1\n",
    "    else:\n",
    "        print(f\"Wrong!! the Correct answer was {data[\"answer\"]} \")\n",
    "\n",
    "\n",
    "#final score\n",
    "print(f\"\\n your final score : {score}/10\")\n",
    "\n",
    "if score == 10:\n",
    "    print(\"very good, you are brilliant!\")\n",
    "elif score >= 4:\n",
    "    print(\"good job, better luck next time,keep practicing\")\n",
    "else:\n",
    "    print(\"don't worry, review the question and try again\")"
   ]
  },
  {
   "cell_type": "code",
   "execution_count": null,
   "id": "bd241773-dd8c-4f06-817f-d692ec55ec28",
   "metadata": {},
   "outputs": [],
   "source": []
  }
 ],
 "metadata": {
  "kernelspec": {
   "display_name": "Python 3 (ipykernel)",
   "language": "python",
   "name": "python3"
  },
  "language_info": {
   "codemirror_mode": {
    "name": "ipython",
    "version": 3
   },
   "file_extension": ".py",
   "mimetype": "text/x-python",
   "name": "python",
   "nbconvert_exporter": "python",
   "pygments_lexer": "ipython3",
   "version": "3.12.7"
  }
 },
 "nbformat": 4,
 "nbformat_minor": 5
}
