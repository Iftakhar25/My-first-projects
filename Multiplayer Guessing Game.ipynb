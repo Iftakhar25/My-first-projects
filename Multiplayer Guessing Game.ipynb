{
 "cells": [
  {
   "cell_type": "code",
   "execution_count": null,
   "id": "fcac7d01-be45-4ca6-9283-5ce1dc3662e2",
   "metadata": {},
   "outputs": [
    {
     "name": "stdout",
     "output_type": "stream",
     "text": [
      "Welcome to the Multiplayer number guessing game! \n",
      "Player one, please choose a number between 1 to 100.\n"
     ]
    }
   ],
   "source": [
    "# Two player Number guessing game\n",
    "print('Welcome to the Multiplayer number guessing game! ')\n",
    "print(\"Player one, please choose a number between 1 to 100.\")\n",
    "\n",
    "#player_one inputs the secret number\n",
    "sec_num = int(input(\"Enter your guessed number : \"))\n",
    "\n",
    "#clear the screen to hide the number(for console simulation)\n",
    "print(\"\\n\" * 50)\n",
    "\n",
    "#initialize attempts\n",
    "attempts = 0\n",
    "\n",
    "#start the guessing loop\n",
    "while True:\n",
    "    guess = int(input('Player two, Guess a number between 1 to 100 :  '))\n",
    "    attempts += 1\n",
    "\n",
    "    #check if the guess is correct or wrong\n",
    "    if guess == sec_num:\n",
    "        print(f\"Congratulations!! you guessed it right in {attempts} tries\")\n",
    "        break\n",
    "    elif guess < sec_num:\n",
    "        print('Too low! Try Again')\n",
    "    else:\n",
    "        print('Too high! Try Again')\n",
    "    "
   ]
  },
  {
   "cell_type": "code",
   "execution_count": null,
   "id": "c60c8514-5c48-42b3-89a7-fda1a78230f9",
   "metadata": {},
   "outputs": [],
   "source": []
  }
 ],
 "metadata": {
  "kernelspec": {
   "display_name": "Python 3 (ipykernel)",
   "language": "python",
   "name": "python3"
  },
  "language_info": {
   "codemirror_mode": {
    "name": "ipython",
    "version": 3
   },
   "file_extension": ".py",
   "mimetype": "text/x-python",
   "name": "python",
   "nbconvert_exporter": "python",
   "pygments_lexer": "ipython3",
   "version": "3.12.7"
  }
 },
 "nbformat": 4,
 "nbformat_minor": 5
}
